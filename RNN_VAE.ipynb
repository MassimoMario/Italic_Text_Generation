{
 "cells": [
  {
   "cell_type": "code",
   "execution_count": 1,
   "metadata": {},
   "outputs": [],
   "source": [
    "import numpy as np\n",
    "from tqdm import tqdm\n",
    "import matplotlib.pyplot as plt\n",
    "import torch\n",
    "import torch.nn as nn\n",
    "from torch.nn import functional as F\n",
    "from torch.utils.data import DataLoader,TensorDataset\n",
    "from gensim.models import Word2Vec"
   ]
  },
  {
   "cell_type": "code",
   "execution_count": 2,
   "metadata": {},
   "outputs": [],
   "source": [
    "device = torch.device(\"cuda\" if torch.cuda.is_available() else \"cpu\")"
   ]
  },
  {
   "cell_type": "code",
   "execution_count": 42,
   "metadata": {},
   "outputs": [],
   "source": [
    "class RNNVAE(nn.Module):\n",
    "    def __init__(self, embedding_matrix, word2idx, idx2word, hidden_dim, latent_dim, num_layers, sos_token, vocab_size):\n",
    "        super(RNNVAE, self).__init__()\n",
    "\n",
    "        self.embedding_dim = embedding_matrix.shape[1]\n",
    "        self.word2idx = word2idx\n",
    "        self.idx2word = idx2word\n",
    "        self.sos_token = sos_token\n",
    "        \n",
    "        self.embedding = nn.Embedding.from_pretrained(embedding_matrix, freeze = True)\n",
    "        self.layer_norm = nn.LayerNorm(self.embedding_dim)\n",
    "\n",
    "        self.encoder = nn.RNN(self.embedding_dim, hidden_dim, num_layers, batch_first = True)\n",
    "        self.decoder = nn.RNN(self.embedding_dim, hidden_dim, num_layers, batch_first = True)\n",
    "\n",
    "        self.fc_mu = nn.Linear(hidden_dim, latent_dim)  \n",
    "        self.fc_logvar = nn.Linear(hidden_dim, latent_dim)\n",
    "        self.fc_hidden = nn.Linear(latent_dim, hidden_dim)\n",
    "        self.fc = nn.Linear(hidden_dim, vocab_size)\n",
    "\n",
    "    \n",
    "    def forward(self, x):\n",
    "        embedded = self.embedding(x)\n",
    "        embedded = self.layer_norm(embedded)\n",
    "\n",
    "        _, hn = self.encoder(embedded)\n",
    "\n",
    "        mu = self.fc_mu(hn)\n",
    "        logvar = self.fc_logvar(hn)\n",
    "        z = self.reparametrization(mu, logvar)\n",
    "\n",
    "        z = self.fc_hidden(z)\n",
    "\n",
    "        output, _ = self.decoder(embedded, z)\n",
    "\n",
    "        output = self.fc(output)\n",
    "        \n",
    "        return output, mu, logvar\n",
    "    \n",
    "\n",
    "\n",
    "    def reparametrization(self, mu, log_var):\n",
    "        ''' Reparametrization trick\n",
    "        \n",
    "        Inputs\n",
    "        -------\n",
    "        mu : torch tensor\n",
    "        log_var : torch tensor\n",
    "            \n",
    "        \n",
    "        Returns\n",
    "        -------\n",
    "        mu + eps*std : torch tensor with the same shape as mu and log_var'''\n",
    "        \n",
    "        std = torch.exp(0.5*log_var)\n",
    "        eps = torch.randn_like(std)\n",
    "\n",
    "        return mu + eps*std\n",
    "\n",
    "\n",
    "    def reconstruction(self, x):\n",
    "        ''' Reconstruction function for inference\n",
    "        Input\n",
    "        -------\n",
    "        x : torch tensor with shape [Batch_size, Sequence_length], input sequence\n",
    "            \n",
    "        \n",
    "        Returns\n",
    "        -------\n",
    "        outputs : torch tensor with shape [Batch_size, Sequence_length, Embedding_dim], the reconstructed sentence'''\n",
    "        self.eval()\n",
    "        with torch.no_grad():\n",
    "\n",
    "            # embedding input and GRU encoder pass\n",
    "            embedded_input = self.embedding(x)\n",
    "            embedded_input = self.layer_norm(embedded_input)\n",
    "            _, hn = self.encoder(embedded_input)\n",
    "            \n",
    "            # computing mu and log_var for style and content space\n",
    "            mu_s = self.fc_mu(hn)\n",
    "            logvar_s = self.fc_logvar(hn)\n",
    "\n",
    "            # reparametrization for style and content\n",
    "            z = self.reparametrization(mu_s, logvar_s)\n",
    "\n",
    "            # concatenating style and content space\n",
    "            z = self.hidden(z)\n",
    "\n",
    "            # prepare sos_token for the decoder\n",
    "            sos_token = self.sos_token.repeat(x.size(0),1)\n",
    "            sos_token = self.embedding(sos_token)\n",
    "            sos_token = self.layer_norm(sos_token)\n",
    "\n",
    "\n",
    "            # decoder pass where the input is the previous output\n",
    "            output = sos_token\n",
    "            for _ in range(x.shape[1]):\n",
    "                outputs, _ = self.decoder(output, z)\n",
    "                outputs = self.fc(outputs)\n",
    "                next_token = torch.argmax(F.softmax(outputs[:,-1,:], dim = -1), dim=-1)\n",
    "                next_token = self.embedding(next_token)\n",
    "                output = torch.cat((output, next_token.unsqueeze(1)), dim=1)\n",
    "        \n",
    "        \n",
    "        return outputs\n",
    "    \n",
    "\n",
    "    def sample(self, hn, len_sample):\n",
    "        self.eval()\n",
    "        with torch.no_grad():\n",
    "            mu_s = self.fc_mu(hn)\n",
    "            logvar_s = self.fc_logvar(hn)\n",
    "\n",
    "            # reparametrization for style and content\n",
    "            z = self.reparametrization(mu_s, logvar_s)\n",
    "\n",
    "            # concatenating style and content space\n",
    "            z = self.hidden(z)\n",
    "\n",
    "            # prepare sos_token for the decoder\n",
    "            sos_token = self.sos_token.repeat(x.size(0),1)\n",
    "            sos_token = self.embedding(sos_token)\n",
    "            sos_token = self.layer_norm(sos_token)\n",
    "\n",
    "\n",
    "            # decoder pass where the input is the previous output\n",
    "            output = sos_token\n",
    "            for _ in range(len_sample):\n",
    "                outputs, _ = self.decoder(output, z)\n",
    "                outputs = self.fc_out(outputs)\n",
    "                next_token = torch.argmax(F.softmax(outputs[:,-1,:], dim = -1), dim=-1)\n",
    "                next_token = self.embedding(next_token)\n",
    "                output = torch.cat((output, next_token.unsqueeze(1)), dim=1)\n",
    "\n",
    "        return outputs"
   ]
  },
  {
   "cell_type": "code",
   "execution_count": 3,
   "metadata": {},
   "outputs": [],
   "source": [
    "def divide_text(text, sequence_length):\n",
    "    ''' Function dividing text in order to feed the Word2vec model\n",
    "    \n",
    "    Inputs\n",
    "    ----------\n",
    "    text : text corpus from a file\n",
    "    sequence_length : int\n",
    "    \n",
    "    \n",
    "    Returns\n",
    "    ----------\n",
    "    output_text : 2D list of words with shape [text_length/sequence_length, sequence_length]'''\n",
    "\n",
    "    words = text.split()\n",
    "    grouped_words = [' '.join(words[i:i+sequence_length]) for i in range(0,len(words),int(sequence_length/2))]  \n",
    "    output_text = [grouped_words[i].split() for i in range(len(grouped_words))]\n",
    "\n",
    "    return output_text"
   ]
  },
  {
   "cell_type": "code",
   "execution_count": 4,
   "metadata": {},
   "outputs": [],
   "source": [
    "def divide_text_equal_seq_length(text, sequence_length):\n",
    "    ''' Function dividing text in order to feed the Word2vec model\n",
    "    \n",
    "    Inputs\n",
    "    ----------\n",
    "    text : text corpus from a file\n",
    "    sequence_length : int\n",
    "    \n",
    "    \n",
    "    Returns\n",
    "    ----------\n",
    "    output_text : 2D list of words with shape [text_length/sequence_length, sequence_length]'''\n",
    "\n",
    "    words = text.split()\n",
    "    grouped_words = [' '.join(words[i:i+sequence_length]) for i in range(0,len(words),int(sequence_length/2))]  \n",
    "    output_text = [grouped_words[i].split() for i in range(len(grouped_words)) if len(grouped_words[i].split()) == sequence_length]\n",
    "\n",
    "    return output_text"
   ]
  },
  {
   "cell_type": "code",
   "execution_count": 39,
   "metadata": {},
   "outputs": [],
   "source": [
    "def custom_dataset(txt_file : str, sequence_length, embedding_dim, batch_size, training_fraction):\n",
    "    ''' Function creating dataset\n",
    "    \n",
    "    Inputs\n",
    "    ----------\n",
    "    file1 : str, name of the file containing the first corpus\n",
    "    file2 : str, name of the file containing the second corpus\n",
    "    file3 : str, name of the file containing the third corpus\n",
    "    sequence_length : int\n",
    "    embedding_dim : int, number of dimension for the embedded words using Word2vec model\n",
    "    batch_size : int\n",
    "    training_fraction : float, fraction of training data\n",
    "    \n",
    "    \n",
    "    Returns\n",
    "    ----------\n",
    "    dataloader_train : istance of torch.utils.data.Dataloader, training data\n",
    "    dataloader_val : istance of torch.utils.data.Dataloader, validation data\n",
    "    embedding_dim : int\n",
    "    embedding_matrix : 2d torch tensor matrix from word2vec embedding\n",
    "    word2vec : trained Word2vec model\n",
    "    idx2word : dictionary from indices to words\n",
    "    word2idx : dictionart from words to indices\n",
    "    vocab_size : int, number of unique tokens\n",
    "    style0_test : torch tensor containing every test data belonging to first style\n",
    "    style1_test : torch tensor containing every test data belonging to second style\n",
    "    style3_test : torch tensor containing every test data belonging to third style'''\n",
    "\n",
    "    # reading the two corpus\n",
    "    with open(txt_file, 'r', encoding='utf-8') as f:\n",
    "        text = f.read()\n",
    "\n",
    "\n",
    "    text = '<sos> ' + text\n",
    "    # divide the whole text to feed the Word2vec model\n",
    "    divided_text = divide_text(text, sequence_length)\n",
    "\n",
    "    # training the Word2vec model with the whole corpus\n",
    "    word2vec = Word2Vec(divided_text, vector_size = embedding_dim, window = sequence_length, min_count=1, workers=4, epochs = 30)\n",
    "    word2vec.train(divided_text, total_examples=word2vec.corpus_count, epochs=word2vec.epochs)\n",
    "\n",
    "    # Get the embedding dimension\n",
    "    embedding_dim = word2vec.wv.vector_size\n",
    "\n",
    "    # Prepare the embedding matrix\n",
    "    vocab_size = len(word2vec.wv)\n",
    "    embedding_matrix = np.zeros((vocab_size, embedding_dim))\n",
    "    word2idx = {word: idx for idx, word in enumerate(word2vec.wv.index_to_key)}\n",
    "    idx2word = {idx: word for idx, word in enumerate(word2vec.wv.index_to_key)}\n",
    "\n",
    "    # creating the embedding matrix from the trained Word2vec model\n",
    "    for word, idx in word2idx.items():\n",
    "        embedding_matrix[idx] = word2vec.wv[word]\n",
    "\n",
    "    \n",
    "    embedding_matrix = torch.tensor(embedding_matrix, dtype=torch.float32)\n",
    "\n",
    "\n",
    "    \n",
    "    dataset = divide_text_equal_seq_length(text, sequence_length)\n",
    "    dataset = torch.LongTensor([[word2idx[char] for char in dataset[i]] for i in range(len(dataset))])\n",
    "\n",
    "\n",
    "    train_data = dataset[ : int(training_fraction * dataset.shape[0])]\n",
    "    val_data = dataset[int(training_fraction * dataset.shape[0]) : ]\n",
    "\n",
    "    dataset_train = TensorDataset(train_data)\n",
    "\n",
    "    # Create a training DataLoader with shuffling enabled\n",
    "    dataloader_train = DataLoader(dataset_train, batch_size = batch_size, shuffle = True)\n",
    "\n",
    "\n",
    "    dataset_val = TensorDataset(val_data)\n",
    "\n",
    "    # Create a validation DataLoader with shuffling enabled\n",
    "    dataloader_val = DataLoader(dataset_val, batch_size = batch_size, shuffle = True)\n",
    "    \n",
    "    \n",
    "    return dataloader_train, dataloader_val, embedding_dim, embedding_matrix, word2vec, idx2word, word2idx, vocab_size"
   ]
  },
  {
   "cell_type": "code",
   "execution_count": 52,
   "metadata": {},
   "outputs": [],
   "source": [
    "def vae_loss(recon_x, x, mu, logvar, l_kl = 0.05, loss_fn = nn.CrossEntropyLoss()):\n",
    "    ''' Function computing loss function for classification\n",
    "    \n",
    "    Inputs\n",
    "    ---------\n",
    "    pred_labels : 3D torch tensor with predicted labels with shape [1, Batch size, 3]\n",
    "    labels : 2D torch tensor with ground truth labels with shape [Batch size, 3]\n",
    "    \n",
    "    Returns\n",
    "    ---------\n",
    "    L : float, loss value '''\n",
    "\n",
    "    L = loss_fn(recon_x.reshape((recon_x.size(0)*recon_x.size(1),recon_x.size(2))), x.view(-1))\n",
    "    KLD = -0.5 * torch.sum(1 + logvar - mu.pow(2) - logvar.exp())\n",
    "\n",
    "    return L + l_kl * KLD"
   ]
  },
  {
   "cell_type": "code",
   "execution_count": 50,
   "metadata": {},
   "outputs": [],
   "source": [
    "def training(model, train_loader, val_loader, num_epochs, lr = 4e-4, title = 'Training'):\n",
    "    ''' Training function\n",
    "    \n",
    "    Input\n",
    "    --------\n",
    "    model : istance of a CNNClassifier, RNNClassifier, GRUClassifier, LSTMClassifier or TClassifier\n",
    "    train_loader : istance of torch Dataloader with training data and labels\n",
    "    val_loader : istance of torch Dataloader with validation data and labels\n",
    "    num_epochs : int, number of epochs\n",
    "    lr : float, learning rate for Adam optimizer\n",
    "    title : str, Title of the matplot figure\n",
    "    \n",
    "    Returns\n",
    "    --------\n",
    "    train_losses : list with train loss values '''\n",
    "\n",
    "    params = list(model.parameters())\n",
    "\n",
    "    # Optimizer\n",
    "    optimizer = torch.optim.Adam(params, lr = lr)\n",
    "\n",
    "    train_losses = []\n",
    "    val_losses = []\n",
    "\n",
    "    # For loop over epochs\n",
    "    for epoch in tqdm(range(num_epochs)):\n",
    "        train_loss = 0.0\n",
    "        average_loss = 0.0\n",
    "        val_loss = 0.0\n",
    "        average_val_loss = 0.0\n",
    "\n",
    "        # For loop for every batch\n",
    "        for  i, (inputs) in enumerate(train_loader):\n",
    "            inputs[0] = inputs[0].to(device)\n",
    "            \n",
    "\n",
    "            optimizer.zero_grad()\n",
    "            \n",
    "\n",
    "            # forward pass through classifier\n",
    "            recon_x, mu, logvar = model(inputs[0])\n",
    "    \n",
    "            # comuting training loss\n",
    "            loss = vae_loss(recon_x.to(device),\n",
    "                            inputs[0].to(device),\n",
    "                            mu.to(device),\n",
    "                            logvar.to(device))\n",
    "            \n",
    "            loss.backward()\n",
    "            train_loss += loss.item()\n",
    "\n",
    "\n",
    "            optimizer.step()\n",
    "            \n",
    "            if (i + 1) % 5000 == 0:\n",
    "                print(f'Train Epoch: {epoch+1} [{i * len(inputs)}/{len(train_loader.dataset)} ({100. * i / len(train_loader):.0f}%)]\\tLoss: {loss.item() / len(inputs):.6f}')\n",
    "        \n",
    "        \n",
    "        # Validation\n",
    "        with torch.no_grad():\n",
    "            for i, (inputs) in enumerate(val_loader):\n",
    "                inputs[0] = inputs[0].to(device)\n",
    "    \n",
    "\n",
    "                # forward pass through classifier\n",
    "                recon_x, mu, logvar = model(inputs[0])\n",
    "                \n",
    "                \n",
    "                # comuting validation loss\n",
    "                val_loss_tot = vae_loss(recon_x.to(device),\n",
    "                                        inputs[0].to(device),\n",
    "                                        mu.to(device),\n",
    "                                        logvar.to(device))\n",
    "                \n",
    "                val_loss += val_loss_tot.item()\n",
    "\n",
    "\n",
    "                \n",
    "                if (i + 1) % 5000 == 0:\n",
    "                    print(f'Train Epoch: {epoch+1} [{i * len(inputs)}/{len(val_loader.dataset)} ({100. * i / len(val_loader):.0f}%)]\\tLoss: {val_loss_tot.item() / len(inputs):.6f}')\n",
    "            \n",
    "            \n",
    "        # Computing average training and validation loss\n",
    "        average_loss = train_loss / len(train_loader.dataset)\n",
    "        train_losses.append(average_loss)\n",
    "\n",
    "        average_val_loss = val_loss / len(val_loader.dataset)\n",
    "        val_losses.append(average_val_loss)\n",
    "        \n",
    "        # printing average training and validation losses\n",
    "        print(f'====> Epoch: {epoch+1} Average train loss: {average_loss:.4f}, Average val loss: {average_val_loss:.4f}')\n",
    "    \n",
    "\n",
    "    # Plotting training and validation curve at the end of the for loop \n",
    "    plt.plot(np.linspace(1,num_epochs,len(train_losses)), train_losses, c = 'darkcyan',label = 'train')\n",
    "    plt.plot(np.linspace(1,num_epochs,len(val_losses)), val_losses, c = 'orange',label = 'val')\n",
    "    plt.legend()\n",
    "    plt.xlabel(\"Epochs\")\n",
    "    plt.ylabel(\"Loss\")\n",
    "    plt.title(title)\n",
    "    plt.show()\n",
    "\n",
    "    return train_losses"
   ]
  },
  {
   "cell_type": "code",
   "execution_count": 40,
   "metadata": {},
   "outputs": [],
   "source": [
    "sequence_length = 25\n",
    "batch_size = 64\n",
    "embedding_dim = 200\n",
    "hidden_dim = 256"
   ]
  },
  {
   "cell_type": "code",
   "execution_count": 41,
   "metadata": {},
   "outputs": [
    {
     "name": "stdout",
     "output_type": "stream",
     "text": [
      "total number of training samples:  7619\n",
      "total number of validation samples:  847\n",
      "vocab size:  12761\n"
     ]
    }
   ],
   "source": [
    "train_loader, val_loader, embedding_dim, embedding_matrix, word2vec, idx2word, word2idx, vocab_size = custom_dataset('divina_commedia.txt',\n",
    "                                                                                                                    sequence_length,\n",
    "                                                                                                                    embedding_dim,\n",
    "                                                                                                                    batch_size,\n",
    "                                                                                                                    0.9)\n",
    "\n",
    "print('total number of training samples: ', len(train_loader.dataset))\n",
    "print('total number of validation samples: ', len(val_loader.dataset))\n",
    "print('vocab size: ', vocab_size)"
   ]
  },
  {
   "cell_type": "code",
   "execution_count": 53,
   "metadata": {},
   "outputs": [],
   "source": [
    "vae = RNNVAE(embedding_matrix, word2idx, idx2word, hidden_dim, 136, 1, vocab_size)"
   ]
  },
  {
   "cell_type": "code",
   "execution_count": 54,
   "metadata": {},
   "outputs": [
    {
     "name": "stdout",
     "output_type": "stream",
     "text": [
      "Total parameters:  3619449\n"
     ]
    }
   ],
   "source": [
    "model_params = sum(p.numel() for p in vae.parameters() if p.requires_grad)\n",
    "\n",
    "print('Total parameters: ', model_params)"
   ]
  },
  {
   "cell_type": "code",
   "execution_count": 55,
   "metadata": {},
   "outputs": [
    {
     "name": "stderr",
     "output_type": "stream",
     "text": [
      " 20%|██        | 1/5 [00:27<01:51, 27.97s/it]"
     ]
    },
    {
     "name": "stdout",
     "output_type": "stream",
     "text": [
      "====> Epoch: 1 Average train loss: 0.1849, Average val loss: 0.0806\n"
     ]
    },
    {
     "name": "stderr",
     "output_type": "stream",
     "text": [
      " 40%|████      | 2/5 [00:57<01:27, 29.07s/it]"
     ]
    },
    {
     "name": "stdout",
     "output_type": "stream",
     "text": [
      "====> Epoch: 2 Average train loss: 0.0506, Average val loss: 0.0407\n"
     ]
    },
    {
     "name": "stderr",
     "output_type": "stream",
     "text": [
      " 60%|██████    | 3/5 [01:30<01:01, 30.68s/it]"
     ]
    },
    {
     "name": "stdout",
     "output_type": "stream",
     "text": [
      "====> Epoch: 3 Average train loss: 0.0279, Average val loss: 0.0302\n"
     ]
    },
    {
     "name": "stderr",
     "output_type": "stream",
     "text": [
      " 80%|████████  | 4/5 [02:03<00:31, 31.62s/it]"
     ]
    },
    {
     "name": "stdout",
     "output_type": "stream",
     "text": [
      "====> Epoch: 4 Average train loss: 0.0182, Average val loss: 0.0246\n"
     ]
    },
    {
     "name": "stderr",
     "output_type": "stream",
     "text": [
      "100%|██████████| 5/5 [02:36<00:00, 31.34s/it]"
     ]
    },
    {
     "name": "stdout",
     "output_type": "stream",
     "text": [
      "====> Epoch: 5 Average train loss: 0.0123, Average val loss: 0.0211\n"
     ]
    },
    {
     "name": "stderr",
     "output_type": "stream",
     "text": [
      "\n"
     ]
    },
    {
     "data": {
      "image/png": "[encoded data removed]",
      "text/plain": [
       "<Figure size 640x480 with 1 Axes>"
      ]
     },
     "metadata": {},
     "output_type": "display_data"
    }
   ],
   "source": [
    "train_losses = training(vae, train_loader, val_loader, 5, lr = 4e-4, title = 'RNN VAE Training')"
   ]
  },
  {
   "cell_type": "code",
   "execution_count": null,
   "metadata": {},
   "outputs": [],
   "source": []
  }
 ],
 "metadata": {
  "kernelspec": {
   "display_name": "Python 3",
   "language": "python",
   "name": "python3"
  },
  "language_info": {
   "codemirror_mode": {
    "name": "ipython",
    "version": 3
   },
   "file_extension": ".py",
   "mimetype": "text/x-python",
   "name": "python",
   "nbconvert_exporter": "python",
   "pygments_lexer": "ipython3",
   "version": "3.8.10"
  }
 },
 "nbformat": 4,
 "nbformat_minor": 2
}
