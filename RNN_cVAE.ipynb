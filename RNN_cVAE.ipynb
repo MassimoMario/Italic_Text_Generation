{
 "cells": [
  {
   "cell_type": "code",
   "execution_count": 1,
   "metadata": {},
   "outputs": [],
   "source": [
    "import numpy as np\n",
    "import math\n",
    "from tqdm import tqdm\n",
    "import matplotlib.pyplot as plt\n",
    "import torch\n",
    "import torch.nn as nn\n",
    "from torch.nn import functional as F\n",
    "from torch.utils.data import DataLoader,TensorDataset\n",
    "from gensim.models import Word2Vec"
   ]
  },
  {
   "cell_type": "code",
   "execution_count": 2,
   "metadata": {},
   "outputs": [],
   "source": [
    "device = torch.device(\"cuda\" if torch.cuda.is_available() else \"cpu\")"
   ]
  },
  {
   "cell_type": "code",
   "execution_count": 3,
   "metadata": {},
   "outputs": [],
   "source": [
    "class RNNcVAE(nn.Module):\n",
    "    def __init__(self, embedding_matrix, idx2word, num_classes, hidden_dim, latent_dim, num_layers, sos_token, vocab_size):\n",
    "        super(RNNcVAE, self).__init__()\n",
    "\n",
    "        self.embedding_dim = embedding_matrix.shape[1]\n",
    "        self.idx2word = idx2word\n",
    "        self.sos_token = sos_token\n",
    "        self.hidden_dim = hidden_dim\n",
    "        self.latent_dim = latent_dim\n",
    "        self.num_layers = num_layers\n",
    "        \n",
    "        self.embedding = nn.Embedding.from_pretrained(embedding_matrix, freeze = True)\n",
    "        self.layer_norm = nn.LayerNorm(self.embedding_dim)\n",
    "\n",
    "        self.encoder = nn.RNN(self.embedding_dim, hidden_dim, num_layers, batch_first = True)\n",
    "        self.decoder = nn.RNN(self.embedding_dim, hidden_dim, num_layers, batch_first = True)\n",
    "\n",
    "        self.fc_mu = nn.Linear(hidden_dim, latent_dim)  \n",
    "        self.fc_logvar = nn.Linear(hidden_dim, latent_dim)\n",
    "        self.fc_hidden = nn.Linear(latent_dim, hidden_dim)\n",
    "        self.fc = nn.Linear(hidden_dim, vocab_size)\n",
    "\n",
    "        self.fc_condition = nn.Linear(num_classes, latent_dim)\n",
    "\n",
    "    \n",
    "    def forward(self, x, label):\n",
    "        embedded_input = self.embedding(x)\n",
    "        embedded_input = self.layer_norm(embedded_input)\n",
    "\n",
    "        _, hn = self.encoder(embedded_input)\n",
    "\n",
    "        mu = self.fc_mu(hn)\n",
    "        logvar = self.fc_logvar(hn)\n",
    "        z = self.reparametrization(mu, logvar)\n",
    "\n",
    "        z = self.condition_on_label(z, label)\n",
    "        z = self.fc_hidden(z)\n",
    "\n",
    "        # prepare sos_token for the decoder\n",
    "        sos_token = self.sos_token.repeat(x.size(0),1)\n",
    "        sos_token = self.embedding(sos_token)\n",
    "        sos_token = self.layer_norm(sos_token)\n",
    "\n",
    "        decoder_input = torch.cat((sos_token, embedded_input), dim = 1)\n",
    "        decoder_input = decoder_input[:,:-1,:]\n",
    "\n",
    "        reconstructed_sequence, _ = self.decoder(decoder_input, z)\n",
    "        '''# reconstructing sequence through the decoder giving z as hidden state for each time step\n",
    "        reconstructed_sequence = []\n",
    "        for t in range(x.shape[1]):\n",
    "            outputs, _ = self.decoder(decoder_input[:,:t+1,:], z)\n",
    "            reconstructed_sequence.append(outputs[:,-1,:].unsqueeze(1))\n",
    "\n",
    "        # concatenating reconstructed words and push them into vocab_size dimensions\n",
    "        reconstructed_sequence = torch.cat(reconstructed_sequence, dim=1)'''\n",
    "        reconstructed_sequence = self.fc(reconstructed_sequence)\n",
    "        \n",
    "        return reconstructed_sequence, mu, logvar\n",
    "    \n",
    "\n",
    "\n",
    "    def reparametrization(self, mu, log_var):\n",
    "        ''' Reparametrization trick\n",
    "        \n",
    "        Inputs\n",
    "        -------\n",
    "        mu : torch tensor\n",
    "        log_var : torch tensor\n",
    "            \n",
    "        \n",
    "        Returns\n",
    "        -------\n",
    "        mu + eps*std : torch tensor with the same shape as mu and log_var'''\n",
    "        \n",
    "        std = torch.exp(0.5*log_var)\n",
    "        eps = torch.randn_like(std)\n",
    "\n",
    "        return mu + eps*std\n",
    "\n",
    "\n",
    "\n",
    "    def condition_on_label(self, z, label):\n",
    "        projected_label = self.fc_condition(label)\n",
    "        projected_label = projected_label.repeat((self.num_layers,1,1))\n",
    "\n",
    "        return z + projected_label\n",
    "\n",
    "\n",
    "    def reconstruction(self, x, label, sample_type = 'multinomial'):\n",
    "        ''' Reconstruction function for inference\n",
    "        Input\n",
    "        -------\n",
    "        x : torch tensor with shape [Batch_size, Sequence_length], input sequence\n",
    "            \n",
    "        \n",
    "        Returns\n",
    "        -------\n",
    "        outputs : torch tensor with shape [Batch_size, Sequence_length, Embedding_dim], the reconstructed sentence'''\n",
    "        self.eval()\n",
    "        with torch.no_grad():\n",
    "\n",
    "            # embedding input and GRU encoder pass\n",
    "            embedded_input = self.embedding(x)\n",
    "            embedded_input = self.layer_norm(embedded_input)\n",
    "            _, hn = self.encoder(embedded_input)\n",
    "            \n",
    "            # computing mu and log_var for style and content space\n",
    "            mu_s = self.fc_mu(hn)\n",
    "            logvar_s = self.fc_logvar(hn)\n",
    "\n",
    "            # reparametrization for style and content\n",
    "            z = self.reparametrization(mu_s, logvar_s)\n",
    "            z = self.condition_on_label(z, label)\n",
    "\n",
    "            # concatenating style and content space\n",
    "            z = self.fc_hidden(z)\n",
    "\n",
    "            # prepare sos_token for the decoder\n",
    "            sos_token = self.sos_token.repeat(x.size(0),1)\n",
    "            sos_token = self.embedding(sos_token)\n",
    "            sos_token = self.layer_norm(sos_token)\n",
    "\n",
    "\n",
    "            # decoder pass where the input is the previous output\n",
    "            output = sos_token\n",
    "            for _ in range(x.shape[1]):\n",
    "                outputs, _ = self.decoder(output, z)\n",
    "                outputs = self.fc(outputs)\n",
    "                next_token = torch.argmax(F.softmax(outputs[:,-1,:], dim = -1), dim=-1)\n",
    "                #next_token = torch.multinomial(F.softmax(outputs[:,-1,:], dim = -1), 1)\n",
    "                next_token = self.embedding(next_token)\n",
    "                next_token = self.layer_norm(next_token)\n",
    "                output = torch.cat((output, next_token.unsqueeze(1)), dim=1)\n",
    "                #output = torch.cat((output, next_token), dim=1)\n",
    "        \n",
    "            \n",
    "            \n",
    "        if sample_type == 'argmax':\n",
    "            output = torch.argmax(F.softmax(outputs.mean(0), dim = -1), dim = -1)\n",
    "            \n",
    "        elif sample_type == 'multinomial':\n",
    "            output = torch.multinomial(F.softmax(outputs.mean(0), dim = -1), 1)\n",
    "            \n",
    "\n",
    "        reconstructed_text = [self.idx2word[w.item()] for w in output]\n",
    "\n",
    "        return ' '.join(reconstructed_text)\n",
    "    \n",
    "\n",
    "    def sample(self, label, len_sample = 25, temperature = 1, sample_type = 'multinomial'):\n",
    "        z = torch.randn((self.num_layers, 1, self.latent_dim))\n",
    "\n",
    "        self.eval()\n",
    "        with torch.no_grad():\n",
    "            z = self.condition_on_label(z, label)\n",
    "            z = self.fc_hidden(z)\n",
    "\n",
    "            # prepare sos_token for the decoder\n",
    "            sos_token = self.sos_token.repeat(1,1)\n",
    "            sos_token = self.embedding(sos_token)\n",
    "            sos_token = self.layer_norm(sos_token)\n",
    "\n",
    "\n",
    "\n",
    "            sampled_text = []\n",
    "            # decoder pass where the input is the previous output\n",
    "            output = sos_token\n",
    "            for _ in range(len_sample):\n",
    "                outputs, _ = self.decoder(output, z)\n",
    "                outputs = self.fc(outputs)\n",
    "                #next_token = torch.argmax(F.softmax(outputs[:,-1,:] / temperature, dim = -1), dim=-1)\n",
    "                next_token = torch.multinomial(F.softmax(outputs[:,-1,:] / temperature, dim = -1), 1)\n",
    "                sampled_text.append(next_token)\n",
    "                next_token = self.embedding(next_token)\n",
    "                next_token = self.layer_norm(next_token)\n",
    "                #output = torch.cat((output, next_token.unsqueeze(1)), dim=1)\n",
    "                output = torch.cat((output, next_token), dim=1)\n",
    "       \n",
    "\n",
    "        if sample_type == 'argmax':\n",
    "            output = torch.argmax(F.softmax(outputs.mean(0), dim = -1), dim = -1)\n",
    "\n",
    "        elif sample_type == 'multinomial':\n",
    "            output = torch.multinomial(F.softmax(outputs.mean(0), dim = -1), 1)\n",
    "        \n",
    "        \n",
    "\n",
    "        #sampled_text = [self.idx2word[w.item()] for w in output]\n",
    "        sampled_text = [self.idx2word[w.item()] for w in sampled_text]\n",
    "\n",
    "        return ' '.join(sampled_text)\n",
    "    \n",
    "\n",
    "    \n",
    "\n",
    "    def number_parameters(self):\n",
    "\n",
    "        model_params = sum(p.numel() for p in self.parameters() if p.requires_grad)\n",
    "\n",
    "        print('Total number of model parameters: ', model_params)\n",
    "\n",
    "        return None"
   ]
  },
  {
   "cell_type": "code",
   "execution_count": 4,
   "metadata": {},
   "outputs": [],
   "source": [
    "class GRUcVAE(RNNcVAE, nn.Module):\n",
    "    def __init__(self, embedding_matrix, idx2word, num_classes, hidden_dim, latent_dim, num_layers, sos_token, vocab_size):\n",
    "        super(GRUcVAE, self).__init__(embedding_matrix, idx2word, num_classes, hidden_dim, latent_dim, num_layers, sos_token, vocab_size)\n",
    "\n",
    "        self.embedding_dim = embedding_matrix.shape[1]\n",
    "        self.idx2word = idx2word\n",
    "        self.sos_token = sos_token\n",
    "        self.hidden_dim = hidden_dim\n",
    "        self.num_layers = num_layers\n",
    "        \n",
    "        self.embedding = nn.Embedding.from_pretrained(embedding_matrix, freeze = True)\n",
    "        self.layer_norm = nn.LayerNorm(self.embedding_dim)\n",
    "\n",
    "        self.encoder = nn.GRU(self.embedding_dim, hidden_dim, num_layers, batch_first = True)\n",
    "        self.decoder = nn.GRU(self.embedding_dim, hidden_dim, num_layers, batch_first = True)\n",
    "\n",
    "        self.fc_mu = nn.Linear(hidden_dim, latent_dim)  \n",
    "        self.fc_logvar = nn.Linear(hidden_dim, latent_dim)\n",
    "        self.fc_hidden = nn.Linear(latent_dim, hidden_dim)\n",
    "        self.fc = nn.Linear(hidden_dim, vocab_size)"
   ]
  },
  {
   "cell_type": "code",
   "execution_count": 5,
   "metadata": {},
   "outputs": [],
   "source": [
    "class LSTMcVAE(nn.Module):\n",
    "    def __init__(self, embedding_matrix, idx2word, num_classes, hidden_dim, latent_dim, num_layers, sos_token, vocab_size):\n",
    "        super(LSTMcVAE, self).__init__()\n",
    "\n",
    "        self.embedding_dim = embedding_matrix.shape[1]\n",
    "        self.idx2word = idx2word\n",
    "        self.sos_token = sos_token\n",
    "        self.hidden_dim = hidden_dim\n",
    "        self.latent_dim = latent_dim\n",
    "        self.num_layers = num_layers\n",
    "        \n",
    "        self.embedding = nn.Embedding.from_pretrained(embedding_matrix, freeze = True)\n",
    "        self.layer_norm = nn.LayerNorm(self.embedding_dim)\n",
    "\n",
    "        self.encoder = nn.LSTM(self.embedding_dim, hidden_dim, num_layers, batch_first = True)\n",
    "        self.decoder = nn.GRU(self.embedding_dim, hidden_dim, num_layers, batch_first = True)\n",
    "\n",
    "        self.fc_mu = nn.Linear(hidden_dim, latent_dim)  \n",
    "        self.fc_logvar = nn.Linear(hidden_dim, latent_dim)\n",
    "        self.fc_hidden = nn.Linear(latent_dim, hidden_dim)\n",
    "        self.fc = nn.Linear(hidden_dim, vocab_size)\n",
    "\n",
    "        self.fc_condition = nn.Linear(num_classes, latent_dim)\n",
    "\n",
    "    \n",
    "    def forward(self, x, label):\n",
    "        embedded_input = self.embedding(x)\n",
    "        embedded_input = self.layer_norm(embedded_input)\n",
    "\n",
    "        _, (hn, cn) = self.encoder(embedded_input)\n",
    "\n",
    "        mu = self.fc_mu(hn)\n",
    "        logvar = self.fc_logvar(hn)\n",
    "        z = self.reparametrization(mu, logvar)\n",
    "\n",
    "        z = self.condition_on_label(z, label)\n",
    "        z = self.fc_hidden(z)\n",
    "\n",
    "        # prepare sos_token for the decoder\n",
    "        sos_token = self.sos_token.repeat(x.size(0),1)\n",
    "        sos_token = self.embedding(sos_token)\n",
    "        sos_token = self.layer_norm(sos_token)\n",
    "\n",
    "        decoder_input = torch.cat((sos_token, embedded_input), dim = 1)\n",
    "        decoder_input = decoder_input[:,:-1,:]\n",
    "\n",
    "        reconstructed_sequence, _ = self.decoder(decoder_input, z)\n",
    "        '''# reconstructing sequence through the decoder giving z as hidden state for each time step\n",
    "        reconstructed_sequence = []\n",
    "        for t in range(x.shape[1]):\n",
    "            outputs, _ = self.decoder(decoder_input[:,:t+1,:], z)\n",
    "            reconstructed_sequence.append(outputs[:,-1,:].unsqueeze(1))\n",
    "\n",
    "        # concatenating reconstructed words and push them into vocab_size dimensions\n",
    "        reconstructed_sequence = torch.cat(reconstructed_sequence, dim=1)'''\n",
    "        reconstructed_sequence = self.fc(reconstructed_sequence)\n",
    "        \n",
    "        return reconstructed_sequence, mu, logvar\n",
    "    \n",
    "\n",
    "\n",
    "    def reparametrization(self, mu, log_var):\n",
    "        ''' Reparametrization trick\n",
    "        \n",
    "        Inputs\n",
    "        -------\n",
    "        mu : torch tensor\n",
    "        log_var : torch tensor\n",
    "            \n",
    "        \n",
    "        Returns\n",
    "        -------\n",
    "        mu + eps*std : torch tensor with the same shape as mu and log_var'''\n",
    "        \n",
    "        std = torch.exp(0.5*log_var)\n",
    "        eps = torch.randn_like(std)\n",
    "\n",
    "        return mu + eps*std\n",
    "\n",
    "\n",
    "\n",
    "    def condition_on_label(self, z, label):\n",
    "        projected_label = self.fc_condition(label)\n",
    "        projected_label = projected_label.repeat((self.num_layers,1,1))\n",
    "\n",
    "        return z + projected_label\n",
    "\n",
    "\n",
    "    def reconstruction(self, x, label, sample_type = 'multinomial'):\n",
    "        ''' Reconstruction function for inference\n",
    "        Input\n",
    "        -------\n",
    "        x : torch tensor with shape [Batch_size, Sequence_length], input sequence\n",
    "            \n",
    "        \n",
    "        Returns\n",
    "        -------\n",
    "        outputs : torch tensor with shape [Batch_size, Sequence_length, Embedding_dim], the reconstructed sentence'''\n",
    "        self.eval()\n",
    "        with torch.no_grad():\n",
    "\n",
    "            # embedding input and GRU encoder pass\n",
    "            embedded_input = self.embedding(x)\n",
    "            embedded_input = self.layer_norm(embedded_input)\n",
    "            _, (hn, cn) = self.encoder(embedded_input)\n",
    "            \n",
    "            # computing mu and log_var for style and content space\n",
    "            mu_s = self.fc_mu(hn)\n",
    "            logvar_s = self.fc_logvar(hn)\n",
    "\n",
    "            # reparametrization for style and content\n",
    "            z = self.reparametrization(mu_s, logvar_s)\n",
    "            z = self.condition_on_label(z, label)\n",
    "\n",
    "            # concatenating style and content space\n",
    "            z = self.fc_hidden(z)\n",
    "\n",
    "            # prepare sos_token for the decoder\n",
    "            sos_token = self.sos_token.repeat(x.size(0),1)\n",
    "            sos_token = self.embedding(sos_token)\n",
    "            sos_token = self.layer_norm(sos_token)\n",
    "\n",
    "\n",
    "            # decoder pass where the input is the previous output\n",
    "            output = sos_token\n",
    "            for _ in range(x.shape[1]):\n",
    "                outputs, _ = self.decoder(output, z)\n",
    "                outputs = self.fc(outputs)\n",
    "                next_token = torch.argmax(F.softmax(outputs[:,-1,:], dim = -1), dim=-1)\n",
    "                #next_token = torch.multinomial(F.softmax(outputs[:,-1,:], dim = -1), 1)\n",
    "                next_token = self.embedding(next_token)\n",
    "                next_token = self.layer_norm(next_token)\n",
    "                output = torch.cat((output, next_token.unsqueeze(1)), dim=1)\n",
    "                #output = torch.cat((output, next_token), dim=1)\n",
    "        \n",
    "            \n",
    "            \n",
    "        if sample_type == 'argmax':\n",
    "            output = torch.argmax(F.softmax(outputs.mean(0), dim = -1), dim = -1)\n",
    "            \n",
    "        elif sample_type == 'multinomial':\n",
    "            output = torch.multinomial(F.softmax(outputs.mean(0), dim = -1), 1)\n",
    "            \n",
    "\n",
    "        reconstructed_text = [self.idx2word[w.item()] for w in output]\n",
    "\n",
    "        return ' '.join(reconstructed_text)\n",
    "    \n",
    "\n",
    "    def sample(self, label, len_sample = 25, temperature = 1, sample_type = 'multinomial'):\n",
    "        z = torch.randn((self.num_layers, 1, self.latent_dim))\n",
    "\n",
    "        self.eval()\n",
    "        with torch.no_grad():\n",
    "            z = self.condition_on_label(z, label)\n",
    "            z = self.fc_hidden(z)\n",
    "\n",
    "            # prepare sos_token for the decoder\n",
    "            sos_token = self.sos_token.repeat(1,1)\n",
    "            sos_token = self.embedding(sos_token)\n",
    "            sos_token = self.layer_norm(sos_token)\n",
    "\n",
    "\n",
    "\n",
    "            sampled_text = []\n",
    "            # decoder pass where the input is the previous output\n",
    "            output = sos_token\n",
    "            for _ in range(len_sample):\n",
    "                outputs, _ = self.decoder(output, z)\n",
    "                outputs = self.fc(outputs)\n",
    "                #next_token = torch.argmax(F.softmax(outputs[:,-1,:] / temperature, dim = -1), dim=-1)\n",
    "                next_token = torch.multinomial(F.softmax(outputs[:,-1,:] / temperature, dim = -1), 1)\n",
    "                sampled_text.append(next_token)\n",
    "                next_token = self.embedding(next_token)\n",
    "                next_token = self.layer_norm(next_token)\n",
    "                #output = torch.cat((output, next_token.unsqueeze(1)), dim=1)\n",
    "                output = torch.cat((output, next_token), dim=1)\n",
    "       \n",
    "\n",
    "        if sample_type == 'argmax':\n",
    "            output = torch.argmax(F.softmax(outputs.mean(0), dim = -1), dim = -1)\n",
    "\n",
    "        elif sample_type == 'multinomial':\n",
    "            output = torch.multinomial(F.softmax(outputs.mean(0), dim = -1), 1)\n",
    "        \n",
    "        \n",
    "\n",
    "        #sampled_text = [self.idx2word[w.item()] for w in output]\n",
    "        sampled_text = [self.idx2word[w.item()] for w in sampled_text]\n",
    "\n",
    "        return ' '.join(sampled_text)\n",
    "    \n",
    "\n",
    "    \n",
    "\n",
    "    def number_parameters(self):\n",
    "\n",
    "        model_params = sum(p.numel() for p in self.parameters() if p.requires_grad)\n",
    "\n",
    "        print('Total number of model parameters: ', model_params)\n",
    "\n",
    "        return None"
   ]
  },
  {
   "cell_type": "code",
   "execution_count": 6,
   "metadata": {},
   "outputs": [],
   "source": [
    "def divide_text(text, sequence_length):\n",
    "    ''' Function dividing text in order to feed the Word2vec model\n",
    "    \n",
    "    Inputs\n",
    "    ----------\n",
    "    text : text corpus from a file\n",
    "    sequence_length : int\n",
    "    \n",
    "    \n",
    "    Returns\n",
    "    ----------\n",
    "    output_text : 2D list of words with shape [text_length/sequence_length, sequence_length]'''\n",
    "\n",
    "    words = text.split()\n",
    "    grouped_words = [' '.join(words[i:i+sequence_length]) for i in range(0,len(words),int(sequence_length/2))]  \n",
    "    output_text = [grouped_words[i].split() for i in range(len(grouped_words))]\n",
    "\n",
    "    return output_text"
   ]
  },
  {
   "cell_type": "code",
   "execution_count": 7,
   "metadata": {},
   "outputs": [],
   "source": [
    "def divide_text_equal_seq_length(text, sequence_length):\n",
    "    ''' Function dividing text in order to feed the Word2vec model\n",
    "    \n",
    "    Inputs\n",
    "    ----------\n",
    "    text : text corpus from a file\n",
    "    sequence_length : int\n",
    "    \n",
    "    \n",
    "    Returns\n",
    "    ----------\n",
    "    output_text : 2D list of words with shape [text_length/sequence_length, sequence_length]'''\n",
    "\n",
    "    words = text.split()\n",
    "    grouped_words = [' '.join(words[i:i+sequence_length]) for i in range(0,len(words),int(sequence_length/6))]  \n",
    "    output_text = [grouped_words[i].split() for i in range(len(grouped_words)) if len(grouped_words[i].split()) == sequence_length]\n",
    "\n",
    "    return output_text"
   ]
  },
  {
   "cell_type": "code",
   "execution_count": 8,
   "metadata": {},
   "outputs": [],
   "source": [
    "def custom_dataset(file1 : str, file2 : str, file3 : str, sequence_length, embedding_dim, batch_size, training_fraction):\n",
    "    ''' Function creating dataset\n",
    "    \n",
    "    Inputs\n",
    "    ----------\n",
    "    file1 : str, name of the file containing the first corpus\n",
    "    file2 : str, name of the file containing the second corpus\n",
    "    file3 : str, name of the file containing the third corpus\n",
    "    sequence_length : int\n",
    "    embedding_dim : int, number of dimension for the embedded words using Word2vec model\n",
    "    batch_size : int\n",
    "    training_fraction : float, fraction of training data\n",
    "    \n",
    "    \n",
    "    Returns\n",
    "    ----------\n",
    "    dataloader_train : istance of torch.utils.data.Dataloader, training data\n",
    "    dataloader_val : istance of torch.utils.data.Dataloader, validation data\n",
    "    embedding_dim : int\n",
    "    embedding_matrix : 2d torch tensor matrix from word2vec embedding\n",
    "    word2vec : trained Word2vec model\n",
    "    idx2word : dictionary from indices to words\n",
    "    word2idx : dictionart from words to indices\n",
    "    vocab_size : int, number of unique tokens\n",
    "    style0_test : torch tensor containing every test data belonging to first style\n",
    "    style1_test : torch tensor containing every test data belonging to second style\n",
    "    style3_test : torch tensor containing every test data belonging to third style'''\n",
    "\n",
    "    # reading the two corpus\n",
    "    with open(file1, 'r', encoding='utf-8') as f:\n",
    "        text1 = f.read()\n",
    "\n",
    "\n",
    "    with open(file2, 'r', encoding='utf-8') as f:\n",
    "        text2 = f.read()\n",
    "\n",
    "    with open(file3, 'r', encoding='utf-8') as f:\n",
    "        text3 = f.read()\n",
    "    \n",
    "\n",
    "    # adding a special token for the start of the sequence\n",
    "    text1 = '<sos> ' + text1 \n",
    "    text = text1 + ' ' + text2 + ' ' + text3\n",
    "\n",
    "    # divide the whole text to feed the Word2vec model\n",
    "    divided_text = divide_text(text, sequence_length)\n",
    "\n",
    "    # training the Word2vec model with the whole corpus\n",
    "    word2vec = Word2Vec(divided_text, vector_size = embedding_dim, window = sequence_length, min_count=1, workers=4, epochs = 30)\n",
    "    word2vec.train(divided_text, total_examples=word2vec.corpus_count, epochs=word2vec.epochs)\n",
    "\n",
    "    # Get the embedding dimension\n",
    "    embedding_dim = word2vec.wv.vector_size\n",
    "\n",
    "    # Prepare the embedding matrix\n",
    "    vocab_size = len(word2vec.wv)\n",
    "    embedding_matrix = np.zeros((vocab_size, embedding_dim))\n",
    "    word2idx = {word: idx for idx, word in enumerate(word2vec.wv.index_to_key)}\n",
    "    idx2word = {idx: word for idx, word in enumerate(word2vec.wv.index_to_key)}\n",
    "\n",
    "    # creating the embedding matrix from the trained Word2vec model\n",
    "    for word, idx in word2idx.items():\n",
    "        embedding_matrix[idx] = word2vec.wv[word]\n",
    "\n",
    "    \n",
    "    embedding_matrix = torch.tensor(embedding_matrix, dtype=torch.float32)\n",
    "\n",
    "\n",
    "    # dividing only the first text\n",
    "    text1_divided = divide_text_equal_seq_length(text1, sequence_length)\n",
    "    data1 = torch.LongTensor([[word2idx[char] for char in text1_divided[i]] for i in range(len(text1_divided))])\n",
    "\n",
    "    \n",
    "    # dividing only the second text\n",
    "    text2_divided = divide_text_equal_seq_length(text2, sequence_length)\n",
    "    data2 = torch.LongTensor([[word2idx[char] for char in text2_divided[i]] for i in range(len(text2_divided))])\n",
    "\n",
    "\n",
    "    text3_divided = divide_text_equal_seq_length(text3, sequence_length)\n",
    "    data3 = torch.LongTensor([[word2idx[char] for char in text3_divided[i]] for i in range(len(text3_divided))])\n",
    "\n",
    "\n",
    "    # defining training and validation data for the first style\n",
    "    data1_train = data1[:int(training_fraction * data1.shape[0])]\n",
    "    data1_val = data1[int(training_fraction * data1.shape[0]): ]\n",
    "    \n",
    "\n",
    "    # defining training and validation data for the second style\n",
    "    data2_train = data2[:int(training_fraction * data2.shape[0])]\n",
    "    data2_val = data2[int(training_fraction * data2.shape[0]): ]\n",
    "    \n",
    "\n",
    "\n",
    "    data3_train = data3[:int(training_fraction * data3.shape[0])]\n",
    "    data3_val = data3[int(training_fraction * data3.shape[0]): ]\n",
    "    \n",
    "\n",
    "    # creating training and validation labels for the first style\n",
    "    label0_train = torch.tensor([1,0,0]).repeat((data1_train.shape[0],1))\n",
    "    label0_val = torch.tensor([1,0,0]).repeat((data1_val.shape[0],1))\n",
    "\n",
    "\n",
    "    # creating training and validation labels for the second style\n",
    "    label1_train = torch.tensor([0,1,0]).repeat((data2_train.shape[0],1))\n",
    "    label1_val = torch.tensor([0,1,0]).repeat((data2_val.shape[0],1))\n",
    "\n",
    "\n",
    "    label2_train = torch.tensor([0,0,1]).repeat((data3_train.shape[0],1))\n",
    "    label2_val = torch.tensor([0,0,1]).repeat((data3_val.shape[0],1))\n",
    "\n",
    "\n",
    "    # creating training and validation labels\n",
    "    labels_train = torch.cat((label0_train, label1_train, label2_train), dim = 0)\n",
    "    labels_val = torch.cat((label0_val, label1_val, label2_val), dim = 0)\n",
    "\n",
    "    # creating training and validation data\n",
    "    data_train = torch.cat((data1_train, data2_train, data3_train), dim = 0)\n",
    "    data_val = torch.cat((data1_val, data2_val, data3_val), dim = 0)\n",
    "\n",
    "    data_train = torch.LongTensor(data_train)\n",
    "    labels_train = labels_train.type(torch.LongTensor)\n",
    "\n",
    "    dataset_train = TensorDataset(data_train, labels_train)\n",
    "\n",
    "    # Create a training DataLoader with shuffling enabled\n",
    "    dataloader_train = DataLoader(dataset_train, batch_size = batch_size, shuffle=True)\n",
    "   \n",
    "\n",
    "\n",
    "    data_val = torch.LongTensor(data_val)\n",
    "    labels_val = labels_val.type(torch.LongTensor)\n",
    "\n",
    "    dataset_val = TensorDataset(data_val, labels_val)\n",
    "\n",
    "    # Create a validation DataLoader with shuffling enabled\n",
    "    dataloader_val = DataLoader(dataset_val, batch_size = batch_size, shuffle = True)\n",
    "    \n",
    "    \n",
    "    return dataloader_train, dataloader_val, embedding_dim, embedding_matrix, word2vec, idx2word, word2idx, vocab_size"
   ]
  },
  {
   "cell_type": "code",
   "execution_count": 9,
   "metadata": {},
   "outputs": [],
   "source": [
    "def vae_loss(recon_x, x, mu, logvar, l_kl = 0.05, loss_fn = nn.CrossEntropyLoss()):\n",
    "    ''' Function computing loss function for classification\n",
    "    \n",
    "    Inputs\n",
    "    ---------\n",
    "    pred_labels : 3D torch tensor with predicted labels with shape [1, Batch size, 3]\n",
    "    labels : 2D torch tensor with ground truth labels with shape [Batch size, 3]\n",
    "    \n",
    "    Returns\n",
    "    ---------\n",
    "    L : float, loss value '''\n",
    "\n",
    "    L = loss_fn(recon_x.reshape((recon_x.size(0)*recon_x.size(1),recon_x.size(2))), x.view(-1))\n",
    "    KLD = -0.5 * torch.sum(1 + logvar - mu.pow(2) - logvar.exp())\n",
    "\n",
    "    return L + l_kl * KLD"
   ]
  },
  {
   "cell_type": "markdown",
   "metadata": {},
   "source": [
    "# Sigmoid controlling l_kl:\n",
    "* k = 0.183, t0 = 20\n",
    "* k = 0.11, t0 = 30\n",
    "\n",
    "\n",
    "k = - ln(32.33333)/(1-t0)"
   ]
  },
  {
   "cell_type": "code",
   "execution_count": 10,
   "metadata": {},
   "outputs": [],
   "source": [
    "def sigmoid(x, k = 0.183, t0 = 20):\n",
    "    \n",
    "    return 1/(1 + np.exp(-k*(x-t0)))"
   ]
  },
  {
   "cell_type": "code",
   "execution_count": 11,
   "metadata": {},
   "outputs": [],
   "source": [
    "def training(model, train_loader, val_loader, num_epochs, lr = 4e-4, title = 'Training'):\n",
    "    ''' Training function\n",
    "    \n",
    "    Input\n",
    "    --------\n",
    "    model : istance of a CNNClassifier, RNNClassifier, GRUClassifier, LSTMClassifier or TClassifier\n",
    "    train_loader : istance of torch Dataloader with training data and labels\n",
    "    val_loader : istance of torch Dataloader with validation data and labels\n",
    "    num_epochs : int, number of epochs\n",
    "    lr : float, learning rate for Adam optimizer\n",
    "    title : str, Title of the matplot figure\n",
    "    \n",
    "    Returns\n",
    "    --------\n",
    "    train_losses : list with train loss values '''\n",
    "\n",
    "    params = list(model.parameters())\n",
    "\n",
    "    # Optimizer\n",
    "    optimizer = torch.optim.Adam(params, lr = lr)\n",
    "\n",
    "    \n",
    "    train_losses = []\n",
    "    val_losses = []\n",
    "    \n",
    "\n",
    "    l_kl = 0.05\n",
    "\n",
    "    # For loop over epochs\n",
    "    for epoch in tqdm(range(num_epochs)):\n",
    "        #l_kl = sigmoid(epoch + 1)\n",
    "        train_loss = 0.0\n",
    "        average_loss = 0.0\n",
    "        val_loss = 0.0\n",
    "        average_val_loss = 0.0\n",
    "\n",
    "\n",
    "        # For loop for every batch\n",
    "        for  i, (inputs, label) in enumerate(train_loader):\n",
    "            inputs = inputs.to(device)\n",
    "            label = label.to(device)\n",
    "            label = label.type(torch.FloatTensor)\n",
    "\n",
    "            optimizer.zero_grad()\n",
    "            \n",
    "\n",
    "            # forward pass through classifier\n",
    "            recon_x, mu, logvar = model(inputs, label)\n",
    "    \n",
    "            # comuting training loss\n",
    "            loss = vae_loss(recon_x.to(device),\n",
    "                            inputs.to(device),\n",
    "                            mu.to(device),\n",
    "                            logvar.to(device),\n",
    "                            l_kl)\n",
    "            \n",
    "            loss.backward()\n",
    "            train_loss += loss.item()\n",
    "\n",
    "\n",
    "            optimizer.step()\n",
    "\n",
    "            \n",
    "            \n",
    "        \n",
    "        \n",
    "        # Validation\n",
    "        with torch.no_grad():\n",
    "            for i, (inputs, label) in enumerate(val_loader):\n",
    "                inputs = inputs.to(device)\n",
    "                label = label.to(device)\n",
    "                label = label.type(torch.FloatTensor)\n",
    "    \n",
    "\n",
    "                # forward pass through classifier\n",
    "                recon_x, mu, logvar = model(inputs, label)\n",
    "                \n",
    "                \n",
    "                # comuting validation loss\n",
    "                val_loss_tot = vae_loss(recon_x.to(device),\n",
    "                                        inputs.to(device),\n",
    "                                        mu.to(device),\n",
    "                                        logvar.to(device),\n",
    "                                        l_kl)\n",
    "                \n",
    "                val_loss += val_loss_tot.item()\n",
    "\n",
    "\n",
    "\n",
    "            \n",
    "        \n",
    "        # Computing average training and validation loss\n",
    "        average_loss = train_loss / len(train_loader.dataset)\n",
    "        train_losses.append(average_loss)\n",
    "\n",
    "        average_val_loss = val_loss / len(val_loader.dataset)\n",
    "        val_losses.append(average_val_loss)\n",
    "\n",
    "        \n",
    "\n",
    "        # printing average training and validation losses\n",
    "        print(f'====> Epoch: {epoch+1} Average train loss: {average_loss:.4f}, Average val loss: {average_val_loss:.4f}')\n",
    "    \n",
    "\n",
    "    # Plotting training and validation curve at the end of the for loop \n",
    "    plt.plot(np.linspace(1,num_epochs,len(train_losses)), train_losses, c = 'darkcyan',label = 'train')\n",
    "    plt.plot(np.linspace(1,num_epochs,len(val_losses)), val_losses, c = 'orange',label = 'val')\n",
    "    plt.legend()\n",
    "    plt.xlabel(\"Epochs\")\n",
    "    plt.ylabel(\"Loss\")\n",
    "    plt.title(title + ' cVAE Training')\n",
    "    plt.show()\n",
    "\n",
    "\n",
    "    return None"
   ]
  },
  {
   "cell_type": "code",
   "execution_count": 12,
   "metadata": {},
   "outputs": [],
   "source": [
    "sequence_length = 30\n",
    "batch_size = 128\n",
    "embedding_dim = 300\n",
    "hidden_dim = 128\n",
    "latent_dim = 100"
   ]
  },
  {
   "cell_type": "code",
   "execution_count": 13,
   "metadata": {},
   "outputs": [
    {
     "name": "stdout",
     "output_type": "stream",
     "text": [
      "total number of training samples:  45550\n",
      "total number of validation samples:  5062\n",
      "vocab size:  26607\n"
     ]
    }
   ],
   "source": [
    "train_loader, val_loader, embedding_dim, embedding_matrix, word2vec, idx2word, word2idx, vocab_size = custom_dataset('divina_commedia.txt',\n",
    "                                                                                                                     'uno_nessuno_e_i_malavoglia.txt',\n",
    "                                                                                                                     'lo_cunto_de_li_cunti.txt',\n",
    "                                                                                                                    sequence_length,\n",
    "                                                                                                                    embedding_dim,\n",
    "                                                                                                                    batch_size,\n",
    "                                                                                                                    0.9)\n",
    "\n",
    "print('total number of training samples: ', len(train_loader.dataset))\n",
    "print('total number of validation samples: ', len(val_loader.dataset))\n",
    "print('vocab size: ', vocab_size)"
   ]
  },
  {
   "cell_type": "code",
   "execution_count": 14,
   "metadata": {},
   "outputs": [],
   "source": [
    "sos_token = torch.full((1,),word2idx['<sos>'])\n",
    "sos_token = sos_token.type(torch.LongTensor)"
   ]
  },
  {
   "cell_type": "markdown",
   "metadata": {},
   "source": [
    "# RNN VAE Training"
   ]
  },
  {
   "cell_type": "code",
   "execution_count": 15,
   "metadata": {},
   "outputs": [
    {
     "name": "stdout",
     "output_type": "stream",
     "text": [
      "Total number of model parameters:  3648159\n"
     ]
    }
   ],
   "source": [
    "rnn_cvae = RNNcVAE(embedding_matrix, idx2word, 3, hidden_dim, latent_dim, 2, sos_token, vocab_size)\n",
    "rnn_cvae.number_parameters()"
   ]
  },
  {
   "cell_type": "code",
   "execution_count": null,
   "metadata": {},
   "outputs": [],
   "source": [
    "training(rnn_cvae, train_loader, val_loader, 7, lr = 4e-4, title = 'RNN')"
   ]
  },
  {
   "cell_type": "code",
   "execution_count": 57,
   "metadata": {},
   "outputs": [],
   "source": [
    "torch.save(rnn_cvae.state_dict(), 'rnn_cvae.pth')"
   ]
  },
  {
   "cell_type": "code",
   "execution_count": 17,
   "metadata": {},
   "outputs": [
    {
     "name": "stderr",
     "output_type": "stream",
     "text": [
      "<ipython-input-17-859835cd591b>:1: FutureWarning: You are using `torch.load` with `weights_only=False` (the current default value), which uses the default pickle module implicitly. It is possible to construct malicious pickle data which will execute arbitrary code during unpickling (See https://github.com/pytorch/pytorch/blob/main/SECURITY.md#untrusted-models for more details). In a future release, the default value for `weights_only` will be flipped to `True`. This limits the functions that could be executed during unpickling. Arbitrary objects will no longer be allowed to be loaded via this mode unless they are explicitly allowlisted by the user via `torch.serialization.add_safe_globals`. We recommend you start setting `weights_only=True` for any use case where you don't have full control of the loaded file. Please open an issue on GitHub for any issues related to this experimental feature.\n",
      "  rnn_cvae.load_state_dict(torch.load('pretrained/rnn_cvae.pth'))\n"
     ]
    },
    {
     "data": {
      "text/plain": [
       "<All keys matched successfully>"
      ]
     },
     "execution_count": 17,
     "metadata": {},
     "output_type": "execute_result"
    }
   ],
   "source": [
    "rnn_cvae.load_state_dict(torch.load('pretrained/rnn_cvae.pth'))"
   ]
  },
  {
   "cell_type": "code",
   "execution_count": 100,
   "metadata": {},
   "outputs": [
    {
     "data": {
      "text/plain": [
       "'niente che non doveva fare il pane e il loro aveva la lingua e questo è vero che ne avevano l uscio in cui donna rosolina l altra e per la talpa di là dopo il signor notaro che non'"
      ]
     },
     "execution_count": 100,
     "metadata": {},
     "output_type": "execute_result"
    }
   ],
   "source": [
    "style_label = {'Dante' : torch.FloatTensor([1,0,0]), 'Italian' : torch.FloatTensor([0,1,0]), 'Neapolitan' : torch.FloatTensor([0,0,1])}\n",
    "\n",
    "label = style_label['Italian']\n",
    "rnn_cvae.sample(label, 40, 0.7)"
   ]
  },
  {
   "cell_type": "markdown",
   "metadata": {},
   "source": [
    "# GRU VAE Training"
   ]
  },
  {
   "cell_type": "code",
   "execution_count": 53,
   "metadata": {},
   "outputs": [
    {
     "name": "stdout",
     "output_type": "stream",
     "text": [
      "Total number of model parameters:  4000415\n"
     ]
    }
   ],
   "source": [
    "gru_cvae = GRUcVAE(embedding_matrix, idx2word, 3, hidden_dim, latent_dim, 2, sos_token, vocab_size)\n",
    "gru_cvae.number_parameters()"
   ]
  },
  {
   "cell_type": "code",
   "execution_count": 54,
   "metadata": {},
   "outputs": [
    {
     "name": "stderr",
     "output_type": "stream",
     "text": [
      "<ipython-input-54-1260851c4d4d>:1: FutureWarning: You are using `torch.load` with `weights_only=False` (the current default value), which uses the default pickle module implicitly. It is possible to construct malicious pickle data which will execute arbitrary code during unpickling (See https://github.com/pytorch/pytorch/blob/main/SECURITY.md#untrusted-models for more details). In a future release, the default value for `weights_only` will be flipped to `True`. This limits the functions that could be executed during unpickling. Arbitrary objects will no longer be allowed to be loaded via this mode unless they are explicitly allowlisted by the user via `torch.serialization.add_safe_globals`. We recommend you start setting `weights_only=True` for any use case where you don't have full control of the loaded file. Please open an issue on GitHub for any issues related to this experimental feature.\n",
      "  gru_cvae.load_state_dict(torch.load('pretrained/gru_cvae.pth'))\n"
     ]
    },
    {
     "data": {
      "text/plain": [
       "<All keys matched successfully>"
      ]
     },
     "execution_count": 54,
     "metadata": {},
     "output_type": "execute_result"
    }
   ],
   "source": [
    "gru_cvae.load_state_dict(torch.load('pretrained/gru_cvae.pth'))"
   ]
  },
  {
   "cell_type": "code",
   "execution_count": 16,
   "metadata": {},
   "outputs": [
    {
     "name": "stderr",
     "output_type": "stream",
     "text": [
      " 12%|█▎        | 1/8 [05:07<35:50, 307.20s/it]"
     ]
    },
    {
     "name": "stdout",
     "output_type": "stream",
     "text": [
      "====> Epoch: 1 Average train loss: 0.0815, Average val loss: 0.0586\n"
     ]
    },
    {
     "name": "stderr",
     "output_type": "stream",
     "text": [
      " 25%|██▌       | 2/8 [10:22<31:13, 312.22s/it]"
     ]
    },
    {
     "name": "stdout",
     "output_type": "stream",
     "text": [
      "====> Epoch: 2 Average train loss: 0.0549, Average val loss: 0.0551\n"
     ]
    },
    {
     "name": "stderr",
     "output_type": "stream",
     "text": [
      " 38%|███▊      | 3/8 [15:40<26:14, 314.82s/it]"
     ]
    },
    {
     "name": "stdout",
     "output_type": "stream",
     "text": [
      "====> Epoch: 3 Average train loss: 0.0507, Average val loss: 0.0521\n"
     ]
    },
    {
     "name": "stderr",
     "output_type": "stream",
     "text": [
      " 50%|█████     | 4/8 [21:02<21:09, 317.35s/it]"
     ]
    },
    {
     "name": "stdout",
     "output_type": "stream",
     "text": [
      "====> Epoch: 4 Average train loss: 0.0473, Average val loss: 0.0507\n"
     ]
    },
    {
     "name": "stderr",
     "output_type": "stream",
     "text": [
      " 62%|██████▎   | 5/8 [26:29<16:03, 321.10s/it]"
     ]
    },
    {
     "name": "stdout",
     "output_type": "stream",
     "text": [
      "====> Epoch: 5 Average train loss: 0.0449, Average val loss: 0.0502\n"
     ]
    },
    {
     "name": "stderr",
     "output_type": "stream",
     "text": [
      " 75%|███████▌  | 6/8 [31:57<10:46, 323.46s/it]"
     ]
    },
    {
     "name": "stdout",
     "output_type": "stream",
     "text": [
      "====> Epoch: 6 Average train loss: 0.0429, Average val loss: 0.0501\n"
     ]
    },
    {
     "name": "stderr",
     "output_type": "stream",
     "text": [
      " 88%|████████▊ | 7/8 [37:26<05:25, 325.21s/it]"
     ]
    },
    {
     "name": "stdout",
     "output_type": "stream",
     "text": [
      "====> Epoch: 7 Average train loss: 0.0412, Average val loss: 0.0502\n"
     ]
    },
    {
     "name": "stderr",
     "output_type": "stream",
     "text": [
      "100%|██████████| 8/8 [43:01<00:00, 322.74s/it]"
     ]
    },
    {
     "name": "stdout",
     "output_type": "stream",
     "text": [
      "====> Epoch: 8 Average train loss: 0.0397, Average val loss: 0.0505\n"
     ]
    },
    {
     "name": "stderr",
     "output_type": "stream",
     "text": [
      "\n"
     ]
    },
    {
     "data": {
      "image/png": "[encoded data removed]",
      "text/plain": [
       "<Figure size 640x480 with 1 Axes>"
      ]
     },
     "metadata": {},
     "output_type": "display_data"
    }
   ],
   "source": [
    "training(gru_cvae, train_loader, val_loader, 8, lr = 4e-4, title = 'GRU')"
   ]
  },
  {
   "cell_type": "code",
   "execution_count": 17,
   "metadata": {},
   "outputs": [],
   "source": [
    "torch.save(gru_cvae.state_dict(), 'gru_cvae.pth')"
   ]
  },
  {
   "cell_type": "markdown",
   "metadata": {},
   "source": [
    "# GRU VAE Inference"
   ]
  },
  {
   "cell_type": "code",
   "execution_count": 18,
   "metadata": {},
   "outputs": [
    {
     "data": {
      "text/plain": [
       "'e io vidi già nè sonno a me ne li occhi miei e io per me in quel suo foco ne l acqua si sentì col capo e li occhi con l altro del suo canto e poi che di'"
      ]
     },
     "execution_count": 18,
     "metadata": {},
     "output_type": "execute_result"
    }
   ],
   "source": [
    "style_label = {'Dante' : torch.FloatTensor([1,0,0]), 'Italian' : torch.FloatTensor([0,1,0]), 'Neapolitan' : torch.FloatTensor([0,0,1])}\n",
    "label = style_label['Dante']\n",
    "\n",
    "gru_cvae.sample(label, 40, 0.6)"
   ]
  },
  {
   "cell_type": "markdown",
   "metadata": {},
   "source": [
    "# LSTM VAE Training"
   ]
  },
  {
   "cell_type": "code",
   "execution_count": 55,
   "metadata": {},
   "outputs": [
    {
     "name": "stdout",
     "output_type": "stream",
     "text": [
      "Total number of model parameters:  4088479\n"
     ]
    }
   ],
   "source": [
    "lstm_cvae = LSTMcVAE(embedding_matrix, idx2word, 3, hidden_dim, latent_dim, 2, sos_token, vocab_size)\n",
    "lstm_cvae.number_parameters()"
   ]
  },
  {
   "cell_type": "code",
   "execution_count": 16,
   "metadata": {},
   "outputs": [
    {
     "name": "stderr",
     "output_type": "stream",
     "text": [
      " 12%|█▎        | 1/8 [05:11<36:17, 311.00s/it]"
     ]
    },
    {
     "name": "stdout",
     "output_type": "stream",
     "text": [
      "====> Epoch: 1 Average train loss: 0.0820, Average val loss: 0.0607\n"
     ]
    },
    {
     "name": "stderr",
     "output_type": "stream",
     "text": [
      " 25%|██▌       | 2/8 [10:23<31:12, 312.05s/it]"
     ]
    },
    {
     "name": "stdout",
     "output_type": "stream",
     "text": [
      "====> Epoch: 2 Average train loss: 0.0567, Average val loss: 0.0566\n"
     ]
    },
    {
     "name": "stderr",
     "output_type": "stream",
     "text": [
      " 38%|███▊      | 3/8 [15:40<26:10, 314.10s/it]"
     ]
    },
    {
     "name": "stdout",
     "output_type": "stream",
     "text": [
      "====> Epoch: 3 Average train loss: 0.0522, Average val loss: 0.0531\n"
     ]
    },
    {
     "name": "stderr",
     "output_type": "stream",
     "text": [
      " 50%|█████     | 4/8 [20:59<21:04, 316.13s/it]"
     ]
    },
    {
     "name": "stdout",
     "output_type": "stream",
     "text": [
      "====> Epoch: 4 Average train loss: 0.0484, Average val loss: 0.0511\n"
     ]
    },
    {
     "name": "stderr",
     "output_type": "stream",
     "text": [
      " 62%|██████▎   | 5/8 [26:24<15:57, 319.26s/it]"
     ]
    },
    {
     "name": "stdout",
     "output_type": "stream",
     "text": [
      "====> Epoch: 5 Average train loss: 0.0457, Average val loss: 0.0504\n"
     ]
    },
    {
     "name": "stderr",
     "output_type": "stream",
     "text": [
      " 75%|███████▌  | 6/8 [31:49<10:42, 321.13s/it]"
     ]
    },
    {
     "name": "stdout",
     "output_type": "stream",
     "text": [
      "====> Epoch: 6 Average train loss: 0.0436, Average val loss: 0.0501\n"
     ]
    },
    {
     "name": "stderr",
     "output_type": "stream",
     "text": [
      " 88%|████████▊ | 7/8 [37:14<05:22, 322.41s/it]"
     ]
    },
    {
     "name": "stdout",
     "output_type": "stream",
     "text": [
      "====> Epoch: 7 Average train loss: 0.0418, Average val loss: 0.0502\n"
     ]
    },
    {
     "name": "stderr",
     "output_type": "stream",
     "text": [
      "100%|██████████| 8/8 [42:39<00:00, 319.94s/it]"
     ]
    },
    {
     "name": "stdout",
     "output_type": "stream",
     "text": [
      "====> Epoch: 8 Average train loss: 0.0402, Average val loss: 0.0504\n"
     ]
    },
    {
     "name": "stderr",
     "output_type": "stream",
     "text": [
      "\n"
     ]
    },
    {
     "data": {
      "image/png": "[encoded data removed]",
      "text/plain": [
       "<Figure size 640x480 with 1 Axes>"
      ]
     },
     "metadata": {},
     "output_type": "display_data"
    }
   ],
   "source": [
    "training(lstm_cvae, train_loader, val_loader, 8, lr = 4e-4, title = 'LSTM')"
   ]
  },
  {
   "cell_type": "code",
   "execution_count": 26,
   "metadata": {},
   "outputs": [],
   "source": [
    "torch.save(lstm_cvae.state_dict(), 'lstm_cvae_cn.pth')"
   ]
  },
  {
   "cell_type": "code",
   "execution_count": 56,
   "metadata": {},
   "outputs": [
    {
     "name": "stderr",
     "output_type": "stream",
     "text": [
      "<ipython-input-56-0f6d58d4077f>:1: FutureWarning: You are using `torch.load` with `weights_only=False` (the current default value), which uses the default pickle module implicitly. It is possible to construct malicious pickle data which will execute arbitrary code during unpickling (See https://github.com/pytorch/pytorch/blob/main/SECURITY.md#untrusted-models for more details). In a future release, the default value for `weights_only` will be flipped to `True`. This limits the functions that could be executed during unpickling. Arbitrary objects will no longer be allowed to be loaded via this mode unless they are explicitly allowlisted by the user via `torch.serialization.add_safe_globals`. We recommend you start setting `weights_only=True` for any use case where you don't have full control of the loaded file. Please open an issue on GitHub for any issues related to this experimental feature.\n",
      "  lstm_cvae.load_state_dict(torch.load('pretrained/lstm_cvae.pth'))\n"
     ]
    },
    {
     "data": {
      "text/plain": [
       "<All keys matched successfully>"
      ]
     },
     "execution_count": 56,
     "metadata": {},
     "output_type": "execute_result"
    }
   ],
   "source": [
    "lstm_cvae.load_state_dict(torch.load('pretrained/lstm_cvae.pth'))"
   ]
  },
  {
   "cell_type": "code",
   "execution_count": 25,
   "metadata": {},
   "outputs": [
    {
     "data": {
      "text/plain": [
       "'una orazion ma la fede che non se impressa chè l ciel in sua guida a miglior retroso sì che dietro a lui si move sostenea di sè fermo e per forza non di me mi disse per me m'"
      ]
     },
     "execution_count": 25,
     "metadata": {},
     "output_type": "execute_result"
    }
   ],
   "source": [
    "style_label = {'Dante' : torch.FloatTensor([1,0,0]), 'Italian' : torch.FloatTensor([0,1,0]), 'Neapolitan' : torch.FloatTensor([0,0,1])}\n",
    "label = style_label['Dante']\n",
    "\n",
    "lstm_cvae.sample(label, 40, 0.75)"
   ]
  },
  {
   "cell_type": "code",
   "execution_count": 18,
   "metadata": {},
   "outputs": [],
   "source": [
    "class CNNClassifier(nn.Module):\n",
    "    def __init__(self, embedding_matrix, num_classes, num_filters, kernel_sizes):\n",
    "        super(CNNClassifier, self).__init__()\n",
    "        self.embedding_dim = embedding_matrix.shape[1]\n",
    "\n",
    "        self.embedding = nn.Embedding.from_pretrained(embedding_matrix, freeze = True)\n",
    "        self.conv_layers = nn.ModuleList([nn.Conv2d(1, num_filters, (k, self.embedding_dim)) for k in kernel_sizes])\n",
    "        self.fc = nn.Linear(num_filters * len(kernel_sizes), num_classes)\n",
    "        \n",
    "    def forward(self,x):\n",
    "        x = self.embedding(x)\n",
    "        x = x.unsqueeze(1)\n",
    "        conv_results = [F.relu(conv(x)).squeeze(3) for conv in self.conv_layers]\n",
    "        pooled = [F.max_pool1d(conv, conv.shape[2]).squeeze(2) for conv in conv_results]\n",
    "        cat = torch.cat(pooled, dim = 1)\n",
    "        out = self.fc(cat)\n",
    "        return F.softmax(out, dim=-1)"
   ]
  },
  {
   "cell_type": "code",
   "execution_count": 19,
   "metadata": {},
   "outputs": [],
   "source": [
    "def CNN_loss(y_s, labels, loss_fn=nn.CrossEntropyLoss()):\n",
    "    L_mul_s = loss_fn(y_s, labels)\n",
    "\n",
    "    return L_mul_s"
   ]
  },
  {
   "cell_type": "code",
   "execution_count": 20,
   "metadata": {},
   "outputs": [],
   "source": [
    "def train_CNN(style_classif, train_loader, val_loader, num_epochs, lr = 4e-4):\n",
    "    params = list(style_classif.parameters())\n",
    "\n",
    "    optimizer = torch.optim.Adam(params, lr = lr)\n",
    "\n",
    "    average_losses = []\n",
    "    val_losses = []\n",
    "    \n",
    "    for epoch in tqdm(range(num_epochs)):\n",
    "        train_loss = 0.0\n",
    "        average_loss = 0.0\n",
    "        val_loss = 0.0\n",
    "        average_val_loss = 0.0\n",
    "        \n",
    "       \n",
    "        for  i, (data, labels) in enumerate(train_loader):\n",
    "            data = data.to(device)\n",
    "            labels = labels.type(torch.FloatTensor)\n",
    "\n",
    "            optimizer.zero_grad()\n",
    "\n",
    "\n",
    "            pred_style = style_classif(data)\n",
    "            \n",
    "    \n",
    "            loss_tot = CNN_loss(pred_style, labels)\n",
    "            loss_tot.backward()\n",
    "            train_loss += loss_tot.item()\n",
    "\n",
    "\n",
    "            optimizer.step()\n",
    "            \n",
    "        \n",
    "        \n",
    "        average_loss = train_loss / len(train_loader.dataset)\n",
    "        \n",
    "        print(f'====> Epoch: {epoch+1} Average loss: {average_loss:.4f}')\n",
    "        average_losses.append(average_loss)\n",
    "\n",
    "        with torch.no_grad():\n",
    "            for i, (data, labels) in enumerate(val_loader):\n",
    "                data = data.to(device)\n",
    "                labels = labels.type(torch.FloatTensor)\n",
    "                \n",
    "\n",
    "                pred_style = style_classif(data)\n",
    "\n",
    "                \n",
    "                \n",
    "                val_loss_tot = CNN_loss(pred_style, labels)\n",
    "                val_loss += val_loss_tot.item()\n",
    "\n",
    "\n",
    "                \n",
    "            \n",
    "            \n",
    "        average_val_loss = val_loss / len(val_loader.dataset)\n",
    "        #print(f'====> Epoch: {epoch+1} Average loss: {average_val_loss:.4f}')\n",
    "        val_losses.append(average_val_loss)\n",
    "\n",
    "    \n",
    "    plt.plot(np.linspace(1,num_epochs,len(average_losses)), average_losses, c = 'darkcyan',label = 'train')\n",
    "    plt.plot(np.linspace(1,num_epochs,len(val_losses)), val_losses, c = 'orange',label = 'val')\n",
    "    plt.legend()\n",
    "    plt.xlabel(\"Epochs\")\n",
    "    plt.ylabel(\"Loss\")\n",
    "    plt.show()\n",
    "    return average_losses"
   ]
  },
  {
   "cell_type": "code",
   "execution_count": 22,
   "metadata": {},
   "outputs": [],
   "source": [
    "CNN_classif = CNNClassifier(embedding_matrix, 3, 2, [3,3])"
   ]
  },
  {
   "cell_type": "code",
   "execution_count": 23,
   "metadata": {},
   "outputs": [
    {
     "name": "stdout",
     "output_type": "stream",
     "text": [
      "Total parameters:  3619\n"
     ]
    }
   ],
   "source": [
    "style_params = sum(p.numel() for p in CNN_classif.parameters() if p.requires_grad)\n",
    "print('Total parameters: ', style_params)"
   ]
  },
  {
   "cell_type": "code",
   "execution_count": 24,
   "metadata": {},
   "outputs": [
    {
     "name": "stderr",
     "output_type": "stream",
     "text": [
      " 25%|██▌       | 1/4 [00:04<00:12,  4.23s/it]"
     ]
    },
    {
     "name": "stdout",
     "output_type": "stream",
     "text": [
      "====> Epoch: 1 Average loss: 0.0049\n"
     ]
    },
    {
     "name": "stderr",
     "output_type": "stream",
     "text": [
      " 50%|█████     | 2/4 [00:08<00:08,  4.10s/it]"
     ]
    },
    {
     "name": "stdout",
     "output_type": "stream",
     "text": [
      "====> Epoch: 2 Average loss: 0.0044\n"
     ]
    },
    {
     "name": "stderr",
     "output_type": "stream",
     "text": [
      " 75%|███████▌  | 3/4 [00:13<00:04,  4.42s/it]"
     ]
    },
    {
     "name": "stdout",
     "output_type": "stream",
     "text": [
      "====> Epoch: 3 Average loss: 0.0044\n"
     ]
    },
    {
     "name": "stderr",
     "output_type": "stream",
     "text": [
      "100%|██████████| 4/4 [00:17<00:00,  4.25s/it]"
     ]
    },
    {
     "name": "stdout",
     "output_type": "stream",
     "text": [
      "====> Epoch: 4 Average loss: 0.0043\n"
     ]
    },
    {
     "name": "stderr",
     "output_type": "stream",
     "text": [
      "\n"
     ]
    },
    {
     "data": {
      "image/png": "[encoded data removed]",
      "text/plain": [
       "<Figure size 640x480 with 1 Axes>"
      ]
     },
     "metadata": {},
     "output_type": "display_data"
    }
   ],
   "source": [
    "CNN_losses = train_CNN(CNN_classif,\n",
    "                   train_loader,\n",
    "                   val_loader,\n",
    "                   num_epochs = 4,\n",
    "                   lr = 1e-3)"
   ]
  },
  {
   "cell_type": "code",
   "execution_count": 25,
   "metadata": {},
   "outputs": [
    {
     "name": "stdout",
     "output_type": "stream",
     "text": [
      "Accuracy : 0.9951171875 %\n"
     ]
    }
   ],
   "source": [
    "wrong = 0.0\n",
    "wrongy = []\n",
    "with torch.no_grad():\n",
    "    for i, (data, labels) in enumerate(val_loader):\n",
    "        pred_style = torch.argmax(CNN_classif(data), dim=-1)\n",
    "        label = torch.argmax(labels,dim=-1)\n",
    "        wrong += torch.count_nonzero(label - pred_style)\n",
    "        \n",
    "print('Accuracy :', 1 - (wrong/(len(val_loader)*batch_size)).item(), '%')"
   ]
  },
  {
   "cell_type": "code",
   "execution_count": 65,
   "metadata": {},
   "outputs": [],
   "source": [
    "def style_accuracy(cvae, classifier, n_samples = 1000, seq_length = 30, temperature = 0.7, name = 'RNN'):\n",
    "\n",
    "    style_label = {'Dante' : torch.FloatTensor([1,0,0]), 'Italian' : torch.FloatTensor([0,1,0]), 'Neapolitan' : torch.FloatTensor([0,0,1])}\n",
    "\n",
    "\n",
    "    label = style_label['Dante']\n",
    "\n",
    "    dante_accuracy = 0.0\n",
    "\n",
    "    for _ in tqdm(range(n_samples)):\n",
    "        sentence = cvae.sample(label, seq_length, temperature)\n",
    "        sentence = [word2idx[w] for w in sentence.split()]\n",
    "        pred_label = torch.argmax(classifier(torch.tensor(sentence).unsqueeze(0)))\n",
    "        if pred_label == 0.0:\n",
    "            dante_accuracy += 1\n",
    "\n",
    "    dante_accuracy = dante_accuracy / n_samples\n",
    "\n",
    "\n",
    "    label = style_label['Italian']\n",
    "\n",
    "    italian_accuracy = 0.0\n",
    "\n",
    "    for _ in tqdm(range(n_samples)):\n",
    "        sentence = cvae.sample(label, seq_length, temperature)\n",
    "        sentence = [word2idx[w] for w in sentence.split()]\n",
    "        pred_label = torch.argmax(classifier(torch.tensor(sentence).unsqueeze(0)))\n",
    "        if pred_label == 1.0:\n",
    "            italian_accuracy += 1\n",
    "\n",
    "    italian_accuracy = italian_accuracy / n_samples\n",
    "\n",
    "\n",
    "\n",
    "    label = style_label['Neapolitan']\n",
    "\n",
    "    neapolitan_accuracy = 0.0\n",
    "\n",
    "    for _ in tqdm(range(n_samples)):\n",
    "        sentence = cvae.sample(label, seq_length, temperature)\n",
    "        sentence = [word2idx[w] for w in sentence.split()]\n",
    "        pred_label = torch.argmax(classifier(torch.tensor(sentence).unsqueeze(0)))\n",
    "        if pred_label == 2.0:\n",
    "            neapolitan_accuracy += 1\n",
    "\n",
    "    neapolitan_accuracy = neapolitan_accuracy / n_samples\n",
    "\n",
    "\n",
    "    overall_accuracy = (dante_accuracy + italian_accuracy + neapolitan_accuracy) / 3\n",
    "\n",
    "\n",
    "    print(name, 'cVAE \\n')\n",
    "\n",
    "    print('Dante accuracy: ', dante_accuracy, '\\n')\n",
    "\n",
    "    print('Italian accuracy: ', italian_accuracy, '\\n')\n",
    "    \n",
    "    print('Neapolitan accuracy: ', neapolitan_accuracy, '\\n')\n",
    "\n",
    "    print('Overall ', name, ' accuracy: ', overall_accuracy )"
   ]
  },
  {
   "cell_type": "code",
   "execution_count": 66,
   "metadata": {},
   "outputs": [
    {
     "name": "stderr",
     "output_type": "stream",
     "text": [
      "100%|██████████| 1000/1000 [01:40<00:00,  9.94it/s]\n",
      "100%|██████████| 1000/1000 [01:42<00:00,  9.74it/s]\n",
      "100%|██████████| 1000/1000 [01:45<00:00,  9.52it/s]"
     ]
    },
    {
     "name": "stdout",
     "output_type": "stream",
     "text": [
      "LSTM cVAE \n",
      "\n",
      "Dante accuracy:  0.967 \n",
      "\n",
      "Italian accuracy:  0.974 \n",
      "\n",
      "Neapolitan accuracy:  0.996 \n",
      "\n",
      "Overall  LSTM  accuracy:  0.979\n"
     ]
    },
    {
     "name": "stderr",
     "output_type": "stream",
     "text": [
      "\n"
     ]
    }
   ],
   "source": [
    "style_accuracy(lstm_cvae, CNN_classif, name = 'LSTM')"
   ]
  },
  {
   "cell_type": "code",
   "execution_count": 67,
   "metadata": {},
   "outputs": [
    {
     "name": "stdout",
     "output_type": "stream",
     "text": [
      "RNN cVae overall_accuracy: 98.30%, 99.10%, 100%, 99.13%\n",
      "GRU cVae accuracies: 93.50%, 93.80%, 99.60%, 95.63%\n",
      "LSTM cVae accuracies: 96.70%, 97.40%, 99.60%, 97.90%\n"
     ]
    }
   ],
   "source": [
    "print('RNN cVae overall_accuracy: 98.30%, 99.10%, 100%, 99.13%')\n",
    "print('GRU cVae accuracies: 93.50%, 93.80%, 99.60%, 95.63%')\n",
    "print('LSTM cVae accuracies: 96.70%, 97.40%, 99.60%, 97.90%')"
   ]
  },
  {
   "cell_type": "code",
   "execution_count": null,
   "metadata": {},
   "outputs": [],
   "source": []
  }
 ],
 "metadata": {
  "kernelspec": {
   "display_name": "Python 3",
   "language": "python",
   "name": "python3"
  },
  "language_info": {
   "codemirror_mode": {
    "name": "ipython",
    "version": 3
   },
   "file_extension": ".py",
   "mimetype": "text/x-python",
   "name": "python",
   "nbconvert_exporter": "python",
   "pygments_lexer": "ipython3",
   "version": "3.8.10"
  }
 },
 "nbformat": 4,
 "nbformat_minor": 2
}
